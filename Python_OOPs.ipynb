{
  "nbformat": 4,
  "nbformat_minor": 0,
  "metadata": {
    "colab": {
      "provenance": []
    },
    "kernelspec": {
      "name": "python3",
      "display_name": "Python 3"
    },
    "language_info": {
      "name": "python"
    }
  },
  "cells": [
    {
      "cell_type": "markdown",
      "source": [
        "## Python OOPS Theory Questions and Answers\n",
        "\n",
        "Here are the answers to the theoretical questions from the \"python oops.pdf\" file, supplemented with information from web searches.\n",
        "\n",
        "### Python OOPs Questions\n",
        "\n",
        "1.  **What is Object-Oriented Programming (OOP)?**\n",
        "    Object-Oriented Programming (OOP) is a programming paradigm based on the concept of \"objects.\" These objects can contain both data (attributes or properties) and the actions or behaviors that can be performed on that data (methods or procedures). The core idea is to design programs by making them out of interacting objects, simplifying software development and maintenance.\n",
        "\n",
        "2.  **What is a class in OOP?**\n",
        "    In OOP, a class is a blueprint or a template for creating objects. It defines the shared characteristics (attributes/variables) and behaviors (methods/functions) that objects created from that class will possess. Classes promote modularity, reusability, and code organization.\n",
        "\n",
        "3.  **What is an object in OOP?**\n",
        "    An object is an instance of a class. It is a self-contained component that consists of methods and properties to make a particular type of data useful. Objects are often used to model real-world entities.\n",
        "\n",
        "4.  **What is the difference between abstraction and encapsulation?**\n",
        "    * **Abstraction** is the process of hiding unwanted information and showing only the essential attributes and relevant details to the user. It focuses on \"what\" needs to be done.\n",
        "    * **Encapsulation** is the process of wrapping data and the code that operates on that data into a single unit (like a class) and controlling access to it. It focuses on \"how\" it should be done and protects information from outside access.\n",
        "\n",
        "5.  **What are dunder methods in Python?**\n",
        "    Dunder methods, also known as \"magic methods,\" are special methods in Python whose names start and end with double underscores (e.g., `__init__`, `__str__`, `__add__`). They allow instances of a class to interact with Python's built-in functions and operators, forming the backbone of Python's data model.\n",
        "\n",
        "6.  **Explain the concept of inheritance in OOP.**\n",
        "    Inheritance is a mechanism in OOP that allows a new class (subclass or derived class) to inherit properties and behaviors (attributes and methods) from an existing class (superclass or base class). This promotes code reusability and establishes a \"is-a\" relationship between classes. For example, a `Dog` class can inherit from an `Animal` class, meaning a Dog \"is a\" Animal.\n",
        "\n",
        "7.  **What is polymorphism in OOP?**\n",
        "    Polymorphism means \"many forms.\" In OOP, it refers to the ability of different classes to respond to the same method call in their own specific ways. This means a single interface can be used for different underlying data types, leading to more flexible and extensible code.\n",
        "\n",
        "8.  **How is encapsulation achieved in Python?**\n",
        "    Encapsulation in Python is primarily achieved by convention. While Python doesn't have strict access modifiers like `private` or `public` found in some other languages, developers use a single underscore `_` prefix for attributes and methods to indicate that they are intended for internal use (protected) and a double underscore `__` prefix for name mangling, which makes attributes and methods harder to access directly from outside the class (private). The idea is to control access to data through public methods (getters and setters).\n",
        "\n",
        "9.  **What is a constructor in Python?**\n",
        "    In Python, the `__init__` method acts as a constructor. It is a special method that is automatically called when a new object (instance) of a class is created. Its purpose is to initialize the object's attributes and set up its initial state.\n",
        "\n",
        "10. **What are class and static methods in Python?**\n",
        "    * **Class Methods:** These methods are bound to the class itself, not to an instance of the class. They can access and modify class-level attributes and are defined using the `@classmethod` decorator. The first parameter is conventionally `cls`, referring to the class object.\n",
        "    * **Static Methods:** These methods are also bound to the class but do not take `self` or `cls` as their first argument. They are defined using the `@staticmethod` decorator and are essentially regular functions that happen to be defined within a class. They don't interact with instance-specific data or class-specific data, but rather perform utility functions related to the class.\n",
        "\n",
        "11. **What is method overloading in Python?**\n",
        "    Method overloading refers to defining multiple methods with the same name but different parameters within the same class. Python does not support traditional method overloading in the same way as some other languages (like Java or C++) where you can have multiple methods with the same name and different signatures. In Python, if you define multiple methods with the same name, the last one defined will override the previous ones. However, you can achieve similar functionality using default arguments, variable-length arguments (`*args`, `**kwargs`), or by checking argument types within a single method.\n",
        "\n",
        "12. **What is method overriding in OOP?**\n",
        "    Method overriding is a feature in OOP where a subclass provides a specific implementation for a method that is already defined in its superclass. This allows a subclass to change or extend the behavior of an inherited method, demonstrating polymorphism.\n",
        "\n",
        "13. **What is a property decorator in Python?**\n",
        "    The `@property` decorator in Python provides a way to define methods that can be accessed like attributes. It allows you to create \"getters,\" \"setters,\" and \"deleters\" for attributes, providing controlled access to them without directly exposing the internal data. This helps in maintaining encapsulation and makes the code more Pythonic.\n",
        "\n",
        "14. **Why is polymorphism important in OOP?**\n",
        "    Polymorphism is crucial in OOP because it allows for writing more flexible, extensible, and maintainable code. It enables a single interface to be used for different data types, meaning you can write generic code that works with objects of various classes, as long as they adhere to a common interface. This reduces code duplication and improves code organization.\n",
        "\n",
        "15. **What is an abstract class in Python?**\n",
        "    An abstract class is a class that cannot be instantiated directly. It is designed to be a blueprint for other classes, often containing one or more abstract methods. An abstract method is a method declared in the abstract class but has no implementation, forcing its subclasses to provide the implementation. In Python, you use the `abc` module (Abstract Base Classes) and the `@abstractmethod` decorator to define abstract classes and methods.\n",
        "\n",
        "16. **What are the advantages of OOP?**\n",
        "    The advantages of OOP include:\n",
        "    * **Modularity:** Breaking down complex problems into smaller, manageable objects.\n",
        "    * **Reusability:** Reusing existing code through inheritance and composition.\n",
        "    * **Maintainability:** Easier to debug and maintain code due to independent objects and encapsulation.\n",
        "    * **Flexibility and Extensibility:** Easier to add new features or modify existing ones without affecting other parts of the system.\n",
        "    * **Data Security:** Encapsulation helps protect data from unintended external access.\n",
        "\n",
        "17. **What is the difference between a class variable and an instance variable?**\n",
        "    * **Class Variables:** These variables are shared by all instances of a class. They are defined directly within the class but outside of any methods. Changes to a class variable affect all instances of that class.\n",
        "    * **Instance Variables:** These variables are unique to each instance (object) of a class. They are defined within the constructor (`__init__` method) using `self.variable_name`. Each instance has its own copy of instance variables.\n",
        "\n",
        "18. **What is multiple inheritance in Python?**\n",
        "    Multiple inheritance is a feature in OOP where a class can inherit attributes and methods from multiple parent classes. This allows a subclass to combine behaviors from several different sources. While powerful, it can sometimes lead to complexities like the \"diamond problem\" if not managed carefully. Python supports multiple inheritance.\n",
        "\n",
        "19. **Explain the purpose of `__str__` and `__repr__` methods in Python.**\n",
        "    * `__str__` method: This method is used to provide a human-readable string representation of an object. It's called by `str()` and `print()`. Its primary purpose is for end-users to understand the object.\n",
        "    * `__repr__` method: This method is used to provide an \"official\" or unambiguous string representation of an object, primarily for developers. It's called by `repr()` and is the fallback if `__str__` is not defined. The goal is to provide a string that, if passed to `eval()`, would ideally recreate the object.\n",
        "\n",
        "20. **What is the significance of the `super()` function in Python?**\n",
        "    The `super()` function in Python is used to call methods and access attributes of a parent or sibling class in an inheritance hierarchy. Its primary use is within a subclass's method to call the corresponding method of its superclass, especially in constructors (`__init__`) to ensure proper initialization of inherited attributes.\n",
        "\n",
        "21. **What is the significance of the `__del__` method in Python?**\n",
        "    The `__del__` method (also known as the destructor) is a special method in Python that is called when an object is about to be destroyed (i.e., its reference count drops to zero and it's garbage-collected). It's primarily used for cleanup operations, such as closing file handlers or releasing external resources. However, its use is generally discouraged for typical resource management, as Python's garbage collector handles memory automatically, and the exact timing of `__del__` calls can be unpredictable.\n",
        "\n",
        "22. **What is the difference between `@staticmethod` and `@classmethod` in Python?**\n",
        "    * `@staticmethod`: This decorator is used to define a static method. Static methods do not receive any implicit first argument (like `self` for instance methods or `cls` for class methods). They are essentially functions defined within a class that don't operate on the instance or the class itself, but logically belong to the class.\n",
        "    * `@classmethod`: This decorator is used to define a class method. Class methods receive the class itself as their first argument (conventionally named `cls`). They can access and modify class-level attributes and can be used as alternative constructors or for operations that involve the class as a whole rather than a specific instance.\n",
        "\n",
        "23. **How does polymorphism work in Python with inheritance?**\n",
        "    Polymorphism with inheritance in Python works through method overriding. When a subclass overrides a method from its superclass, objects of the subclass will execute their own version of that method when called, while objects of the superclass will execute the superclass's version. This allows different objects to respond to the same method call in different ways, depending on their actual type.\n",
        "\n",
        "24. **What is method chaining in Python OOP?**\n",
        "    Method chaining (or fluent interface) is a programming technique where multiple method calls are strung together on a single object. This is achieved by having each method return the object itself (usually `self`), allowing another method to be called immediately on the returned object. This can lead to more concise and readable code, especially when performing a sequence of operations on an object.\n",
        "\n",
        "25. **What is the purpose of the `__call__` method in Python?**\n",
        "    The `__call__` method is a special method in Python that makes an instance of a class callable like a function. If this method is defined in a class, you can call an object of that class by using parentheses `()` after its name, just like you would call a function. This allows objects to behave as functions and can be useful for creating function-like objects or decorators."
      ],
      "metadata": {
        "id": "9LHvJOHF9gGv"
      }
    },
    {
      "cell_type": "code",
      "source": [
        "#  1. Create a parent class Animal with a method speak() that prints a generic message. Create a child class Dog\n",
        "# that overrides the speak() method to print \"Bark!\".\n",
        "\n",
        "class Animal:\n",
        "    def speak(self):\n",
        "        print(\"This animal makes a sound.\")\n",
        "\n",
        "class Dog(Animal):\n",
        "    def speak(self):\n",
        "        print(\"Bark!\")\n",
        "\n",
        "# Demonstrate\n",
        "animal = Animal()\n",
        "animal.speak()\n",
        "\n",
        "dog = Dog()\n",
        "dog.speak()"
      ],
      "metadata": {
        "colab": {
          "base_uri": "https://localhost:8080/"
        },
        "id": "iMLnS-ka9n4d",
        "outputId": "d3146617-84f8-4bff-a114-8dc3d4c4adac"
      },
      "execution_count": 3,
      "outputs": [
        {
          "output_type": "stream",
          "name": "stdout",
          "text": [
            "This animal makes a sound.\n",
            "Bark!\n"
          ]
        }
      ]
    },
    {
      "cell_type": "code",
      "source": [
        "#2. Write a program to create an abstract class Shape with a method area(). Derive classes Circle and Rectangle from it and implement the area() method in both.\n",
        "\n",
        "from abc import ABC, abstractmethod\n",
        "import math\n",
        "\n",
        "class Shape(ABC):\n",
        "    @abstractmethod\n",
        "    def area(self):\n",
        "        pass\n",
        "\n",
        "class Circle(Shape):\n",
        "    def __init__(self, radius):\n",
        "        self.radius = radius\n",
        "\n",
        "    def area(self):\n",
        "        return math.pi * self.radius**2\n",
        "\n",
        "class Rectangle(Shape):\n",
        "    def __init__(self, length, width):\n",
        "        self.length = length\n",
        "        self.width = width\n",
        "\n",
        "    def area(self):\n",
        "        return self.length * self.width\n",
        "\n",
        "# Demonstrate\n",
        "circle = Circle(5)\n",
        "print(f\"Area of Circle: {circle.area()}\")\n",
        "\n",
        "rectangle = Rectangle(4, 6)\n",
        "print(f\"Area of Rectangle: {rectangle.area()}\")"
      ],
      "metadata": {
        "colab": {
          "base_uri": "https://localhost:8080/"
        },
        "id": "8gR-eQNl-Rl1",
        "outputId": "212319b2-9198-45b5-cd5b-8be5bf3854ee"
      },
      "execution_count": 4,
      "outputs": [
        {
          "output_type": "stream",
          "name": "stdout",
          "text": [
            "Area of Circle: 78.53981633974483\n",
            "Area of Rectangle: 24\n"
          ]
        }
      ]
    },
    {
      "cell_type": "code",
      "source": [
        "#3. Implement a multi-level inheritance scenario where a class Vehicle has an attribute type. Derive a class Car and further derive a class ElectricCar that adds a battery attribute\n",
        "\n",
        "class Vehicle:\n",
        "    def __init__(self, vehicle_type):\n",
        "        self.type = vehicle_type\n",
        "\n",
        "    def get_vehicle_info(self):\n",
        "        return f\"Vehicle Type: {self.type}\"\n",
        "\n",
        "class Car(Vehicle):\n",
        "    def __init__(self, vehicle_type, brand):\n",
        "        super().__init__(vehicle_type)\n",
        "        self.brand = brand\n",
        "\n",
        "    def get_car_info(self):\n",
        "        return f\"{self.get_vehicle_info()}, Brand: {self.brand}\"\n",
        "\n",
        "class ElectricCar(Car):\n",
        "    def __init__(self, vehicle_type, brand, battery_capacity):\n",
        "        super().__init__(vehicle_type, brand)\n",
        "        self.battery_capacity = battery_capacity\n",
        "\n",
        "    def get_electric_car_info(self):\n",
        "        return f\"{self.get_car_info()}, Battery Capacity: {self.battery_capacity} kWh\"\n",
        "\n",
        "# Demonstrate\n",
        "electric_car = ElectricCar(\"Sedan\", \"Tesla\", 75)\n",
        "print(electric_car.get_electric_car_info())"
      ],
      "metadata": {
        "colab": {
          "base_uri": "https://localhost:8080/"
        },
        "id": "L44iUIXO-bWM",
        "outputId": "45da2199-5928-4fdb-b457-9815ee55981e"
      },
      "execution_count": 5,
      "outputs": [
        {
          "output_type": "stream",
          "name": "stdout",
          "text": [
            "Vehicle Type: Sedan, Brand: Tesla, Battery Capacity: 75 kWh\n"
          ]
        }
      ]
    },
    {
      "cell_type": "code",
      "source": [
        "#4. Demonstrate polymorphism by creating a base class Bird with a method fly(). Create two derived classes Sparrow and Penguin that override the fly() method\n",
        "\n",
        "class Bird:\n",
        "    def fly(self):\n",
        "        print(\"This bird flies.\")\n",
        "\n",
        "class Sparrow(Bird):\n",
        "    def fly(self):\n",
        "        print(\"Sparrows fly high in the sky.\")\n",
        "\n",
        "class Penguin(Bird):\n",
        "    def fly(self):\n",
        "        print(\"Penguins cannot fly, but they can swim!\")\n",
        "\n",
        "# Demonstrate\n",
        "bird = Bird()\n",
        "bird.fly()\n",
        "\n",
        "sparrow = Sparrow()\n",
        "sparrow.fly()\n",
        "\n",
        "penguin = Penguin()\n",
        "penguin.fly()"
      ],
      "metadata": {
        "colab": {
          "base_uri": "https://localhost:8080/"
        },
        "id": "2JovM9FW-iud",
        "outputId": "2c1bac83-5167-46a4-a4f5-dfad53e8c554"
      },
      "execution_count": 6,
      "outputs": [
        {
          "output_type": "stream",
          "name": "stdout",
          "text": [
            "This bird flies.\n",
            "Sparrows fly high in the sky.\n",
            "Penguins cannot fly, but they can swim!\n"
          ]
        }
      ]
    },
    {
      "cell_type": "code",
      "source": [
        "#5. Write a program to demonstrate encapsulation by creating a class BankAccount with private attributes balance and methods to deposit, withdraw, and check balance.\n",
        "\n",
        "class BankAccount:\n",
        "    def __init__(self, initial_balance=0):\n",
        "        self.__balance = initial_balance # Private attribute\n",
        "\n",
        "    def deposit(self, amount):\n",
        "        if amount > 0:\n",
        "            self.__balance += amount\n",
        "            print(f\"Deposited: ${amount}. New balance: ${self.__balance}\")\n",
        "        else:\n",
        "            print(\"Deposit amount must be positive.\")\n",
        "\n",
        "    def withdraw(self, amount):\n",
        "        if amount > 0 and self.__balance >= amount:\n",
        "            self.__balance -= amount\n",
        "            print(f\"Withdrew: ${amount}. New balance: ${self.__balance}\")\n",
        "        else:\n",
        "            print(\"Invalid withdrawal amount or insufficient balance.\")\n",
        "\n",
        "    def get_balance(self):\n",
        "        return self.__balance\n",
        "\n",
        "# Demonstrate\n",
        "account = BankAccount(100)\n",
        "account.deposit(50)\n",
        "account.withdraw(30)\n",
        "print(f\"Current balance: ${account.get_balance()}\")\n",
        "\n",
        "# Trying to directly access the private attribute will lead to an AttributeError\n",
        "# print(account.__balance) # This would raise an error"
      ],
      "metadata": {
        "colab": {
          "base_uri": "https://localhost:8080/"
        },
        "id": "65MrlkmC-smz",
        "outputId": "149e8d5c-54f8-4d8f-fcab-028fb9448854"
      },
      "execution_count": 7,
      "outputs": [
        {
          "output_type": "stream",
          "name": "stdout",
          "text": [
            "Deposited: $50. New balance: $150\n",
            "Withdrew: $30. New balance: $120\n",
            "Current balance: $120\n"
          ]
        }
      ]
    },
    {
      "cell_type": "code",
      "source": [
        "#6. Demonstrate runtime polymorphism using a method play() in a base class Instrument. Derive classes Guitar and Piano that implement their own version of play()\n",
        "\n",
        "class Instrument:\n",
        "    def play(self):\n",
        "        print(\"The instrument is playing a sound.\")\n",
        "\n",
        "class Guitar(Instrument):\n",
        "    def play(self):\n",
        "        print(\"The guitar is strumming a melody.\")\n",
        "\n",
        "class Piano(Instrument):\n",
        "    def play(self):\n",
        "        print(\"The piano is playing a beautiful tune.\")\n",
        "\n",
        "# Demonstrate\n",
        "def make_instrument_play(instrument):\n",
        "    instrument.play()\n",
        "\n",
        "guitar = Guitar()\n",
        "piano = Piano()\n",
        "\n",
        "make_instrument_play(guitar)\n",
        "make_instrument_play(piano)"
      ],
      "metadata": {
        "colab": {
          "base_uri": "https://localhost:8080/"
        },
        "id": "HrYvAKh3-1Qj",
        "outputId": "4f6151d7-a49c-4edd-d3a0-8fd7d843094f"
      },
      "execution_count": 8,
      "outputs": [
        {
          "output_type": "stream",
          "name": "stdout",
          "text": [
            "The guitar is strumming a melody.\n",
            "The piano is playing a beautiful tune.\n"
          ]
        }
      ]
    },
    {
      "cell_type": "code",
      "source": [
        "#7. Create a class MathOperations with a class method add_numbers() to add two numbers and a static method subtract_numbers() to subtract two numbers\n",
        "\n",
        "class MathOperations:\n",
        "    @classmethod\n",
        "    def add_numbers(cls, a, b):\n",
        "        return a + b\n",
        "\n",
        "    @staticmethod\n",
        "    def subtract_numbers(a, b):\n",
        "        return a - b\n",
        "\n",
        "# Demonstrate\n",
        "print(f\"Addition using class method: {MathOperations.add_numbers(10, 5)}\")\n",
        "print(f\"Subtraction using static method: {MathOperations.subtract_numbers(10, 5)}\")"
      ],
      "metadata": {
        "colab": {
          "base_uri": "https://localhost:8080/"
        },
        "id": "WmanW0_G-8ir",
        "outputId": "3f25b0c1-92f7-451c-fc3c-d9de78c25807"
      },
      "execution_count": 9,
      "outputs": [
        {
          "output_type": "stream",
          "name": "stdout",
          "text": [
            "Addition using class method: 15\n",
            "Subtraction using static method: 5\n"
          ]
        }
      ]
    },
    {
      "cell_type": "code",
      "source": [
        "#8. Implement a class Person with a class method to count the total number of persons created\n",
        "\n",
        "class Person:\n",
        "    number_of_persons = 0 # Class variable\n",
        "\n",
        "    def __init__(self, name):\n",
        "        self.name = name\n",
        "        Person.number_of_persons += 1\n",
        "\n",
        "    @classmethod\n",
        "    def get_total_persons(cls):\n",
        "        return cls.number_of_persons\n",
        "\n",
        "# Demonstrate\n",
        "person1 = Person(\"Alice\")\n",
        "person2 = Person(\"Bob\")\n",
        "person3 = Person(\"Charlie\")\n",
        "\n",
        "print(f\"Total number of persons created: {Person.get_total_persons()}\")"
      ],
      "metadata": {
        "colab": {
          "base_uri": "https://localhost:8080/"
        },
        "id": "h7X5doXf_DY7",
        "outputId": "c9144124-392e-4823-9680-02822aa13aa3"
      },
      "execution_count": 10,
      "outputs": [
        {
          "output_type": "stream",
          "name": "stdout",
          "text": [
            "Total number of persons created: 3\n"
          ]
        }
      ]
    },
    {
      "cell_type": "code",
      "source": [
        "#9. Write a class Fraction with attributes numerator and denominator. Override the str method to display the fraction as \"numerator/denominator\".\n",
        "\n",
        "class Fraction:\n",
        "    def __init__(self, numerator, denominator):\n",
        "        self.numerator = numerator\n",
        "        self.denominator = denominator\n",
        "\n",
        "    def __str__(self):\n",
        "        return f\"{self.numerator}/{self.denominator}\"\n",
        "\n",
        "# Demonstrate\n",
        "fraction = Fraction(3, 4)\n",
        "print(f\"The fraction is: {fraction}\")"
      ],
      "metadata": {
        "colab": {
          "base_uri": "https://localhost:8080/"
        },
        "id": "a3U735SQ_KMq",
        "outputId": "c7809b5c-6e70-4ddb-99f3-55c57c001a3e"
      },
      "execution_count": 11,
      "outputs": [
        {
          "output_type": "stream",
          "name": "stdout",
          "text": [
            "The fraction is: 3/4\n"
          ]
        }
      ]
    },
    {
      "cell_type": "code",
      "source": [
        "#10. Demonstrate operator overloading by creating a class Vector and overriding the add method to add two vectors.\n",
        "\n",
        "class Vector:\n",
        "    def __init__(self, x, y):\n",
        "        self.x = x\n",
        "        self.y = y\n",
        "\n",
        "    def __add__(self, other):\n",
        "        if isinstance(other, Vector):\n",
        "            return Vector(self.x + other.x, self.y + other.y)\n",
        "        else:\n",
        "            raise TypeError(\"Can only add Vector objects to Vector objects.\")\n",
        "\n",
        "    def __str__(self):\n",
        "        return f\"Vector({self.x}, {self.y})\"\n",
        "\n",
        "# Demonstrate\n",
        "v1 = Vector(2, 3)\n",
        "v2 = Vector(1, 4)\n",
        "v3 = v1 + v2\n",
        "print(f\"Vector 1: {v1}\")\n",
        "print(f\"Vector 2: {v2}\")\n",
        "print(f\"Sum of vectors: {v3}\")"
      ],
      "metadata": {
        "colab": {
          "base_uri": "https://localhost:8080/"
        },
        "id": "vYgAtPgQ_RAS",
        "outputId": "7c74c25f-010c-4120-9629-5a891405b3b2"
      },
      "execution_count": 12,
      "outputs": [
        {
          "output_type": "stream",
          "name": "stdout",
          "text": [
            "Vector 1: Vector(2, 3)\n",
            "Vector 2: Vector(1, 4)\n",
            "Sum of vectors: Vector(3, 7)\n"
          ]
        }
      ]
    },
    {
      "cell_type": "code",
      "source": [
        "#11. Create a class Person with attributes name and age. Add a method greet() that prints \"Hello, my name is {name} and I am {age} years old.\"\n",
        "\n",
        "class Person:\n",
        "    def __init__(self, name, age):\n",
        "        self.name = name\n",
        "        self.age = age\n",
        "\n",
        "    def greet(self):\n",
        "        print(f\"Hello, my name is {self.name} and I am {self.age} years old.\")\n",
        "\n",
        "# Demonstrate\n",
        "person = Person(\"Deepak\", 30)\n",
        "person.greet()"
      ],
      "metadata": {
        "colab": {
          "base_uri": "https://localhost:8080/"
        },
        "id": "B87YgFxA_XMa",
        "outputId": "1135f541-3b25-42bd-b497-16de32361980"
      },
      "execution_count": 13,
      "outputs": [
        {
          "output_type": "stream",
          "name": "stdout",
          "text": [
            "Hello, my name is Deepak and I am 30 years old.\n"
          ]
        }
      ]
    },
    {
      "cell_type": "code",
      "source": [
        "#12. Implement a class Student with attributes name and grades. Create a method average_grade() to compute the average of the grades.\n",
        "\n",
        "class Student:\n",
        "    def __init__(self, name, grades):\n",
        "        self.name = name\n",
        "        self.grades = grades # grades should be a list of numbers\n",
        "\n",
        "    def average_grade(self):\n",
        "        if not self.grades:\n",
        "            return 0\n",
        "        return sum(self.grades) / len(self.grades)\n",
        "\n",
        "# Demonstrate\n",
        "student1 = Student(\"Priya\", [85, 90, 78, 92])\n",
        "print(f\"{student1.name}'s average grade: {student1.average_grade():.2f}\")\n",
        "\n",
        "student2 = Student(\"Rahul\", [])\n",
        "print(f\"{student2.name}'s average grade: {student2.average_grade():.2f}\")"
      ],
      "metadata": {
        "colab": {
          "base_uri": "https://localhost:8080/"
        },
        "id": "B9xcUZUM_eAZ",
        "outputId": "49dc8ad4-ddd8-44d5-abd5-dd1368fd82c9"
      },
      "execution_count": 14,
      "outputs": [
        {
          "output_type": "stream",
          "name": "stdout",
          "text": [
            "Priya's average grade: 86.25\n",
            "Rahul's average grade: 0.00\n"
          ]
        }
      ]
    },
    {
      "cell_type": "code",
      "source": [
        "#13. Create a class Rectangle with methods set_dimensions() to set the dimensions and area() to calculate the area.\n",
        "\n",
        "class Rectangle:\n",
        "    def __init__(self):\n",
        "        self.length = 0\n",
        "        self.width = 0\n",
        "\n",
        "    def set_dimensions(self, length, width):\n",
        "        self.length = length\n",
        "        self.width = width\n",
        "\n",
        "    def area(self):\n",
        "        return self.length * self.width\n",
        "\n",
        "# Demonstrate\n",
        "rect = Rectangle()\n",
        "rect.set_dimensions(7, 8)\n",
        "print(f\"Area of the rectangle: {rect.area()}\")"
      ],
      "metadata": {
        "colab": {
          "base_uri": "https://localhost:8080/"
        },
        "id": "KsA_Mhjy_lrJ",
        "outputId": "937e6c4d-8a8e-4106-ef8a-43271a583685"
      },
      "execution_count": 15,
      "outputs": [
        {
          "output_type": "stream",
          "name": "stdout",
          "text": [
            "Area of the rectangle: 56\n"
          ]
        }
      ]
    },
    {
      "cell_type": "code",
      "source": [
        "#14. Create a class Employee with a method calculate_salary() that computes the salary based on hours worked and hourly rate. Create a derived class Manager that adds a bonus to the salary\n",
        "\n",
        "class Employee:\n",
        "    def __init__(self, hours_worked, hourly_rate):\n",
        "        self.hours_worked = hours_worked\n",
        "        self.hourly_rate = hourly_rate\n",
        "\n",
        "    def calculate_salary(self):\n",
        "        return self.hours_worked * self.hourly_rate\n",
        "\n",
        "class Manager(Employee):\n",
        "    def __init__(self, hours_worked, hourly_rate, bonus):\n",
        "        super().__init__(hours_worked, hourly_rate)\n",
        "        self.bonus = bonus\n",
        "\n",
        "    def calculate_salary(self):\n",
        "        base_salary = super().calculate_salary()\n",
        "        return base_salary + self.bonus\n",
        "\n",
        "# Demonstrate\n",
        "employee = Employee(160, 25)\n",
        "print(f\"Employee salary: ${employee.calculate_salary():.2f}\")\n",
        "\n",
        "manager = Manager(160, 30, 500)\n",
        "print(f\"Manager salary: ${manager.calculate_salary():.2f}\")"
      ],
      "metadata": {
        "colab": {
          "base_uri": "https://localhost:8080/"
        },
        "id": "snEcX_RM_sSS",
        "outputId": "d94c6f2d-aa56-4dbd-b06e-5dd11088e854"
      },
      "execution_count": 16,
      "outputs": [
        {
          "output_type": "stream",
          "name": "stdout",
          "text": [
            "Employee salary: $4000.00\n",
            "Manager salary: $5300.00\n"
          ]
        }
      ]
    },
    {
      "cell_type": "code",
      "source": [
        "#15. Create a class Product with attributes name, price, and quantity. Implement a method total_price() that calculates the total price of the product.\n",
        "\n",
        "class Product:\n",
        "    def __init__(self, name, price, quantity):\n",
        "        self.name = name\n",
        "        self.price = price\n",
        "        self.quantity = quantity\n",
        "\n",
        "    def total_price(self):\n",
        "        return self.price * self.quantity\n",
        "\n",
        "# Demonstrate\n",
        "product = Product(\"Laptop\", 1200.50, 2)\n",
        "print(f\"Product: {product.name}, Total Price: ${product.total_price():.2f}\")"
      ],
      "metadata": {
        "colab": {
          "base_uri": "https://localhost:8080/"
        },
        "id": "naCSEwBT_yrZ",
        "outputId": "f8b70a66-c7cb-4b0f-b100-315c574a7e10"
      },
      "execution_count": 17,
      "outputs": [
        {
          "output_type": "stream",
          "name": "stdout",
          "text": [
            "Product: Laptop, Total Price: $2401.00\n"
          ]
        }
      ]
    },
    {
      "cell_type": "code",
      "source": [
        "#16. Create a class Animal with an abstract method sound(). Create two derived classes Cow and Sheep that implement the sound() method\n",
        "\n",
        "from abc import ABC, abstractmethod\n",
        "\n",
        "class Animal(ABC):\n",
        "    @abstractmethod\n",
        "    def sound(self):\n",
        "        pass\n",
        "\n",
        "class Cow(Animal):\n",
        "    def sound(self):\n",
        "        return \"Moo!\"\n",
        "\n",
        "class Sheep(Animal):\n",
        "    def sound(self):\n",
        "        return \"Baa!\"\n",
        "\n",
        "# Demonstrate\n",
        "cow = Cow()\n",
        "print(f\"Cow says: {cow.sound()}\")\n",
        "\n",
        "sheep = Sheep()\n",
        "print(f\"Sheep says: {sheep.sound()}\")"
      ],
      "metadata": {
        "colab": {
          "base_uri": "https://localhost:8080/"
        },
        "id": "hHsYGh7B_4_p",
        "outputId": "12368ce1-ae5a-4dce-b998-83816c863d75"
      },
      "execution_count": 18,
      "outputs": [
        {
          "output_type": "stream",
          "name": "stdout",
          "text": [
            "Cow says: Moo!\n",
            "Sheep says: Baa!\n"
          ]
        }
      ]
    },
    {
      "cell_type": "code",
      "source": [
        "#17. Create a class Book with attributes title, author, and year_published. Add a method get_book_info() that returns a formatted string with the book's details.\n",
        "\n",
        "class Book:\n",
        "    def __init__(self, title, author, year_published):\n",
        "        self.title = title\n",
        "        self.author = author\n",
        "        self.year_published = year_published\n",
        "\n",
        "    def get_book_info(self):\n",
        "        return f\"Title: {self.title}, Author: {self.author}, Year Published: {self.year_published}\"\n",
        "\n",
        "# Demonstrate\n",
        "book = Book(\"The Great Gatsby\", \"F. Scott Fitzgerald\", 1925)\n",
        "print(book.get_book_info())"
      ],
      "metadata": {
        "colab": {
          "base_uri": "https://localhost:8080/"
        },
        "id": "HXtLQ73PAAMp",
        "outputId": "03577641-4fe2-49f9-a26c-2c001fb81bea"
      },
      "execution_count": 19,
      "outputs": [
        {
          "output_type": "stream",
          "name": "stdout",
          "text": [
            "Title: The Great Gatsby, Author: F. Scott Fitzgerald, Year Published: 1925\n"
          ]
        }
      ]
    },
    {
      "cell_type": "code",
      "source": [
        "#18. Create a class House with attributes address and price. Create a derived class Mansion that adds an attribute number_of_rooms\n",
        "\n",
        "class House:\n",
        "    def __init__(self, address, price):\n",
        "        self.address = address\n",
        "        self.price = price\n",
        "\n",
        "    def get_house_info(self):\n",
        "        return f\"Address: {self.address}, Price: ${self.price:,.2f}\"\n",
        "\n",
        "class Mansion(House):\n",
        "    def __init__(self, address, price, number_of_rooms):\n",
        "        super().__init__(address, price)\n",
        "        self.number_of_rooms = number_of_rooms\n",
        "\n",
        "    def get_mansion_info(self):\n",
        "        return f\"{self.get_house_info()}, Number of Rooms: {self.number_of_rooms}\"\n",
        "\n",
        "# Demonstrate\n",
        "house = House(\"123 Main St\", 300000)\n",
        "print(house.get_house_info())\n",
        "\n",
        "mansion = Mansion(\"456 Grand Ave\", 2500000, 15)\n",
        "print(mansion.get_mansion_info())"
      ],
      "metadata": {
        "colab": {
          "base_uri": "https://localhost:8080/"
        },
        "id": "0V0ceLyeAGj4",
        "outputId": "9277cc4d-fccb-4067-c967-c71f61cb60c1"
      },
      "execution_count": 22,
      "outputs": [
        {
          "output_type": "stream",
          "name": "stdout",
          "text": [
            "Address: 123 Main St, Price: $300,000.00\n",
            "Address: 456 Grand Ave, Price: $2,500,000.00, Number of Rooms: 15\n"
          ]
        }
      ]
    }
  ]
}